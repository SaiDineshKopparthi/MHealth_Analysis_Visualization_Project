{
 "cells": [
  {
   "cell_type": "code",
   "execution_count": 3,
   "id": "1865728e-dcd5-42af-b45a-1e522c5ae1d7",
   "metadata": {},
   "outputs": [],
   "source": [
    "from pyspark.sql import SparkSession\n",
    "\n",
    "spark = SparkSession.builder.appName(\"Menatal Health Analysis\").getOrCreate()\n",
    "\n",
    "sales_df = spark.read.csv(\"Mental_Health_Data.csv\", header=True, inferSchema=True)"
   ]
  },
  {
   "cell_type": "code",
   "execution_count": 6,
   "id": "d94a4da9-e648-4ff7-b03d-67e678cf42b2",
   "metadata": {},
   "outputs": [],
   "source": [
    "country_counts_df = sales_df.groupBy('Country').count().orderBy('count', ascending=False)\n",
    "\n",
    "output_path = \"unique_country_counts.csv\"\n",
    "\n",
    "country_counts_df.write.csv(output_path, header=True, mode=\"overwrite\")\n"
   ]
  },
  {
   "cell_type": "code",
   "execution_count": 9,
   "id": "93aafcd0-0d3e-4657-9fb8-258c4b8e77e1",
   "metadata": {},
   "outputs": [],
   "source": [
    "selected_columns_df = sales_df.select(\"Gender\", \"Growing_Stress\")\n",
    "\n",
    "selected_columns_df = selected_columns_df.coalesce(1)\n",
    "\n",
    "output_path = \"gender_growing_stress.csv\"\n",
    "\n",
    "selected_columns_df.write.csv(output_path, header=True, mode=\"overwrite\")"
   ]
  },
  {
   "cell_type": "code",
   "execution_count": null,
   "id": "55da1a47-c4a6-4e87-95df-ac324e3dbbca",
   "metadata": {},
   "outputs": [],
   "source": []
  }
 ],
 "metadata": {
  "kernelspec": {
   "display_name": "Python 3 (ipykernel)",
   "language": "python",
   "name": "python3"
  },
  "language_info": {
   "codemirror_mode": {
    "name": "ipython",
    "version": 3
   },
   "file_extension": ".py",
   "mimetype": "text/x-python",
   "name": "python",
   "nbconvert_exporter": "python",
   "pygments_lexer": "ipython3",
   "version": "3.12.2"
  }
 },
 "nbformat": 4,
 "nbformat_minor": 5
}

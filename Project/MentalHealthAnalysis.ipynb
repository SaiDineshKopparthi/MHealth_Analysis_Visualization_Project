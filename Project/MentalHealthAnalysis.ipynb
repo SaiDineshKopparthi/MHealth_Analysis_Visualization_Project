{
 "cells": [
  {
   "cell_type": "code",
   "execution_count": 1,
   "id": "1865728e-dcd5-42af-b45a-1e522c5ae1d7",
   "metadata": {},
   "outputs": [],
   "source": [
    "from pyspark.sql import SparkSession\n",
    "\n",
    "spark = SparkSession.builder.appName(\"Menatal Health Analysis\").getOrCreate()\n",
    "\n",
    "mhealth_df = spark.read.csv(\"Mental_Health_Data.csv\", header=True, inferSchema=True)"
   ]
  },
  {
   "cell_type": "code",
   "execution_count": 6,
   "id": "d94a4da9-e648-4ff7-b03d-67e678cf42b2",
   "metadata": {},
   "outputs": [],
   "source": [
    "country_counts_df = mhealth_df.groupBy('Country').count().orderBy('count', ascending=False)\n",
    "\n",
    "output_path = \"unique_country_counts.csv\"\n",
    "\n",
    "country_counts_df.write.csv(output_path, header=True, mode=\"overwrite\")\n"
   ]
  },
  {
   "cell_type": "code",
   "execution_count": 11,
   "id": "93aafcd0-0d3e-4657-9fb8-258c4b8e77e1",
   "metadata": {},
   "outputs": [],
   "source": [
    "selected_columns_df = mhealth_df.select(\"Gender\", \"Growing_Stress\")\n",
    "selected_columns_df = selected_columns_df.coalesce(1)\n",
    "\n",
    "output_path = \"gender_growing_stress.csv\"\n",
    "\n",
    "selected_columns_df.write.csv(output_path, header=True, mode=\"overwrite\")"
   ]
  },
  {
   "cell_type": "code",
   "execution_count": 10,
   "id": "4616ab96-39ac-486e-bdba-2e831edf23e8",
   "metadata": {},
   "outputs": [],
   "source": [
    "filtered_df = sales_df.filter(sales_df['Growing_Stress'] == 'Yes')\n",
    "\n",
    "selected_columns_df = filtered_df.select('Occupation', 'Treatment')\n",
    "selected_columns_df = selected_columns_df.coalesce(1)\n",
    "\n",
    "output_path = \"occupation_treatment_growing_stress.csv\"\n",
    "\n",
    "selected_columns_df.write.csv(output_path, header=True, mode=\"overwrite\")\n"
   ]
  },
  {
   "cell_type": "code",
   "execution_count": null,
   "id": "c23c4310-e252-422d-9a18-988773298410",
   "metadata": {},
   "outputs": [],
   "source": []
  }
 ],
 "metadata": {
  "kernelspec": {
   "display_name": "Python 3 (ipykernel)",
   "language": "python",
   "name": "python3"
  },
  "language_info": {
   "codemirror_mode": {
    "name": "ipython",
    "version": 3
   },
   "file_extension": ".py",
   "mimetype": "text/x-python",
   "name": "python",
   "nbconvert_exporter": "python",
   "pygments_lexer": "ipython3",
   "version": "3.12.2"
  }
 },
 "nbformat": 4,
 "nbformat_minor": 5
}
